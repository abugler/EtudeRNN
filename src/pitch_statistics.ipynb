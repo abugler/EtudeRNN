{
 "cells": [
  {
   "cell_type": "markdown",
   "metadata": {
    "collapsed": true,
    "pycharm": {
     "name": "#%% md\n",
     "is_executing": false
    }
   },
   "source": [
    "Let us try to find the lowest and highest pitches we need, so we can reduce the dimensionality"
   ]
  },
  {
   "cell_type": "code",
   "execution_count": 65,
   "outputs": [],
   "source": [
    "# import packages\n",
    "import pretty_midi\n",
    "import matplotlib.pyplot as plt\n",
    "import pandas as pd\n",
    "import numpy as np\n",
    "import seaborn as sn\n",
    "import os\n",
    "\n",
    "# df for pitches\n",
    "pitch_df = pd.DataFrame(columns = [\"File\", \"Lowest Pitch\", \"Highest Pitch\", \"Valid?\"])\n",
    "\n",
    "# import list of single guitar songs\n",
    "data_path = 'data\\\\Classical_Guitar_classicalguitarmidi.com_MIDIRip'\n",
    "list_path = \"data\\\\Single_Guitar_Songs\"\n",
    "try:\n",
    "    with open(list_path, \"r\") as file:\n",
    "        songpaths = file.readlines()\n",
    "except FileNotFoundError:\n",
    "    # PyCharm was giving me a hard time...\n",
    "    absolute_path = \"C:\\\\Users\\\\Andreas\\\\Documents\\\\CS397Pardo\\\\Project\\\\MelodyLSTM\\\\\"\n",
    "    list_path = absolute_path + list_path\n",
    "    data_path = absolute_path + data_path\n",
    "    with open(list_path, \"r\") as file:\n",
    "        songpaths = file.readlines()\n",
    "        \n",
    "songpaths = [path.replace(\"\\n\", \"\") for path in songpaths]\n",
    "# E2 is the lowest note on a Standard classical Guitar\n",
    "E2 = 40\n",
    "# B5 is the highest fretted note on a standard classical guitar\n",
    "B5 = 83"
   ],
   "metadata": {
    "collapsed": false,
    "pycharm": {
     "name": "#%%\n",
     "is_executing": false
    }
   }
  },
  {
   "cell_type": "code",
   "execution_count": 66,
   "outputs": [],
   "source": [
    "\n",
    "## finds highest and lowest notes given midi data\n",
    "highest_pitch = lambda x: max([instrum.notes for instrum in x.instruments][0],\n",
    "                              key=lambda note: note.pitch)\n",
    "lowest_pitch = lambda x: min([instrum.notes for instrum in x.instruments][0], \n",
    "                             key=lambda note: note.pitch)\n",
    "\n",
    "## The pitch histogram only counts whether or not the note exists in the song, not the frequency per song\n",
    "pitch_histogram = np.zeros(128)\n",
    "for i in range(len(songpaths)):\n",
    "    midi_data = pretty_midi.PrettyMIDI(data_path + \"\\\\\" + songpaths[i])\n",
    "    pitch_df.loc[i] = [songpaths[i], highest_pitch(midi_data), lowest_pitch(midi_data), None]\n",
    "    pitch_df.loc[i, \"Valid?\"] = pitch_df.at[i, 'Highest Pitch'].pitch < B5 and \\\n",
    "                                pitch_df.at[i, \"Lowest Pitch\"].pitch > E2\n",
    "    \n",
    "    pitch_histogram[\n",
    "        np.sum(midi_data.get_piano_roll(), axis=1, dtype=bool)\n",
    "    ] += 1"
   ],
   "metadata": {
    "collapsed": false,
    "pycharm": {
     "name": "#%%\n",
     "is_executing": false
    }
   }
  },
  {
   "cell_type": "code",
   "execution_count": 61,
   "outputs": [
    {
     "data": {
      "text/plain": "<Figure size 432x288 with 1 Axes>",
      "image/png": "[encoded data removed]"
     },
     "metadata": {
      "needs_background": "light"
     },
     "output_type": "display_data"
    }
   ],
   "source": [
    "plt.bar(np.arange(E2, B5), pitch_histogram[E2:B5])\n",
    "plt.ylabel(\"Number of songs included\")\n",
    "plt.title(\"Number of songs that include a specific note\")\n",
    "plt.xlabel(\"MIDI Pitch\")\n",
    "plt.show()"
   ],
   "metadata": {
    "collapsed": false,
    "pycharm": {
     "name": "#%%\n",
     "is_executing": false
    }
   }
  },
  {
   "cell_type": "code",
   "execution_count": 67,
   "outputs": [],
   "source": [
    "try:\n",
    "    pitch_df[pitch_df[\"Valid?\"]].to_csv(\"data\\\\ValidSingleGuitarSongs\")\n",
    "except FileNotFoundError:\n",
    "    pitch_df[pitch_df[\"Valid?\"]].to_csv(absolute_path + \"\\\\data\\\\ValidSingleGuitarSongs\")"
   ],
   "metadata": {
    "collapsed": false,
    "pycharm": {
     "name": "#%%\n",
     "is_executing": false
    }
   }
  }
 ],
 "metadata": {
  "language_info": {
   "codemirror_mode": {
    "name": "ipython",
    "version": 2
   },
   "file_extension": ".py",
   "mimetype": "text/x-python",
   "name": "python",
   "nbconvert_exporter": "python",
   "pygments_lexer": "ipython2",
   "version": "2.7.6"
  },
  "kernelspec": {
   "name": "python3",
   "language": "python",
   "display_name": "Python 3"
  },
  "pycharm": {
   "stem_cell": {
    "cell_type": "raw",
    "source": [],
    "metadata": {
     "collapsed": false
    }
   }
  }
 },
 "nbformat": 4,
 "nbformat_minor": 0
}